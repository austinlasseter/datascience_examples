{
  "nbformat": 4,
  "nbformat_minor": 0,
  "metadata": {
    "kernelspec": {
      "display_name": "Python 3",
      "language": "python",
      "name": "python3"
    },
    "language_info": {
      "codemirror_mode": {
        "name": "ipython",
        "version": 3
      },
      "file_extension": ".py",
      "mimetype": "text/x-python",
      "name": "python",
      "nbconvert_exporter": "python",
      "pygments_lexer": "ipython3",
      "version": "3.7.3"
    },
    "colab": {
      "name": "baseball_stats.ipynb",
      "provenance": []
    }
  },
  "cells": [
    {
      "cell_type": "code",
      "metadata": {
        "id": "jEzrDxbMNUA6",
        "colab_type": "code",
        "colab": {}
      },
      "source": [
        "import pandas as pd\n",
        "from pathlib import Path\n",
        "import glob\n",
        "from sklearn.model_selection import train_test_split\n",
        "from sklearn.linear_model import LinearRegression\n",
        "from sklearn import metrics\n",
        "import numpy as np\n",
        "from math import sqrt"
      ],
      "execution_count": 1,
      "outputs": []
    },
    {
      "cell_type": "markdown",
      "metadata": {
        "id": "N1Czwu2lNUA_",
        "colab_type": "text"
      },
      "source": [
        "## Find your dataset"
      ]
    },
    {
      "cell_type": "code",
      "metadata": {
        "id": "23ypvlTYNUA_",
        "colab_type": "code",
        "colab": {
          "base_uri": "https://localhost:8080/",
          "height": 71
        },
        "outputId": "3649d25c-58b2-44f1-ca48-afe1acb5e86d"
      },
      "source": [
        "import matplotlib.pyplot as plt\n",
        "%matplotlib inline\n",
        "import seaborn as sns"
      ],
      "execution_count": 2,
      "outputs": [
        {
          "output_type": "stream",
          "text": [
            "/usr/local/lib/python3.6/dist-packages/statsmodels/tools/_testing.py:19: FutureWarning: pandas.util.testing is deprecated. Use the functions in the public API at pandas.testing instead.\n",
            "  import pandas.util.testing as tm\n"
          ],
          "name": "stderr"
        }
      ]
    },
    {
      "cell_type": "markdown",
      "metadata": {
        "id": "HuOeZiIeNUBC",
        "colab_type": "text"
      },
      "source": [
        "We'll take a look at some data from https://www.baseball-reference.com/"
      ]
    },
    {
      "cell_type": "code",
      "metadata": {
        "id": "F938Yh-hNUBC",
        "colab_type": "code",
        "colab": {
          "base_uri": "https://localhost:8080/",
          "height": 34
        },
        "outputId": "7a071626-7529-4385-e9d4-b3ba13881b66"
      },
      "source": [
        "# What's our current working directory?\n",
        "home_plate=Path.cwd()\n",
        "home_plate"
      ],
      "execution_count": 3,
      "outputs": [
        {
          "output_type": "execute_result",
          "data": {
            "text/plain": [
              "PosixPath('/content')"
            ]
          },
          "metadata": {
            "tags": []
          },
          "execution_count": 3
        }
      ]
    },
    {
      "cell_type": "code",
      "metadata": {
        "id": "UCZwTOayNUBG",
        "colab_type": "code",
        "colab": {
          "base_uri": "https://localhost:8080/",
          "height": 34
        },
        "outputId": "5795ab2b-4b99-4bff-ca83-12e5fff955d5"
      },
      "source": [
        "# What's the path from there to our data folder?\n",
        "dugout=Path.joinpath(home_plate.parent, 'data')\n",
        "dugout"
      ],
      "execution_count": 4,
      "outputs": [
        {
          "output_type": "execute_result",
          "data": {
            "text/plain": [
              "PosixPath('/data')"
            ]
          },
          "metadata": {
            "tags": []
          },
          "execution_count": 4
        }
      ]
    },
    {
      "cell_type": "code",
      "metadata": {
        "id": "f2BClMahNUBI",
        "colab_type": "code",
        "colab": {}
      },
      "source": [
        "# What's in there?\n",
        "for player in dugout.glob('*'):\n",
        "    print(player.name)"
      ],
      "execution_count": 5,
      "outputs": []
    },
    {
      "cell_type": "markdown",
      "metadata": {
        "id": "c28ySdJ6NUBL",
        "colab_type": "text"
      },
      "source": [
        "## Exploratory Data Analysis"
      ]
    },
    {
      "cell_type": "code",
      "metadata": {
        "id": "aXmf2z7ZNUBM",
        "colab_type": "code",
        "colab": {
          "base_uri": "https://localhost:8080/",
          "height": 204
        },
        "outputId": "38f44dbe-c342-4c8a-ef80-6c7a53832870"
      },
      "source": [
        "# Let's open the hitters dataset.\n",
        "hitters_file = 'https://raw.git.generalassemb.ly/DCDAT35/10-linear-regression/master/linear-regression/data/hitters.csv?token=AAACG7CQNXDVGVV2SKFELS27LKYKG'\n",
        "baseball = pd.read_csv(hitters_file)\n",
        "baseball.head()"
      ],
      "execution_count": 6,
      "outputs": [
        {
          "output_type": "execute_result",
          "data": {
            "text/html": [
              "<div>\n",
              "<style scoped>\n",
              "    .dataframe tbody tr th:only-of-type {\n",
              "        vertical-align: middle;\n",
              "    }\n",
              "\n",
              "    .dataframe tbody tr th {\n",
              "        vertical-align: top;\n",
              "    }\n",
              "\n",
              "    .dataframe thead th {\n",
              "        text-align: right;\n",
              "    }\n",
              "</style>\n",
              "<table border=\"1\" class=\"dataframe\">\n",
              "  <thead>\n",
              "    <tr style=\"text-align: right;\">\n",
              "      <th></th>\n",
              "      <th>AtBat</th>\n",
              "      <th>Hits</th>\n",
              "      <th>HmRun</th>\n",
              "      <th>Runs</th>\n",
              "      <th>RBI</th>\n",
              "      <th>Walks</th>\n",
              "      <th>Years</th>\n",
              "      <th>CAtBat</th>\n",
              "      <th>CHits</th>\n",
              "      <th>CHmRun</th>\n",
              "      <th>CRuns</th>\n",
              "      <th>CRBI</th>\n",
              "      <th>CWalks</th>\n",
              "      <th>League</th>\n",
              "      <th>Division</th>\n",
              "      <th>PutOuts</th>\n",
              "      <th>Assists</th>\n",
              "      <th>Errors</th>\n",
              "      <th>Salary</th>\n",
              "      <th>NewLeague</th>\n",
              "    </tr>\n",
              "  </thead>\n",
              "  <tbody>\n",
              "    <tr>\n",
              "      <th>0</th>\n",
              "      <td>293</td>\n",
              "      <td>66</td>\n",
              "      <td>1</td>\n",
              "      <td>30</td>\n",
              "      <td>29</td>\n",
              "      <td>14</td>\n",
              "      <td>1</td>\n",
              "      <td>293</td>\n",
              "      <td>66</td>\n",
              "      <td>1</td>\n",
              "      <td>30</td>\n",
              "      <td>29</td>\n",
              "      <td>14</td>\n",
              "      <td>A</td>\n",
              "      <td>E</td>\n",
              "      <td>446</td>\n",
              "      <td>33</td>\n",
              "      <td>20</td>\n",
              "      <td>NaN</td>\n",
              "      <td>A</td>\n",
              "    </tr>\n",
              "    <tr>\n",
              "      <th>1</th>\n",
              "      <td>315</td>\n",
              "      <td>81</td>\n",
              "      <td>7</td>\n",
              "      <td>24</td>\n",
              "      <td>38</td>\n",
              "      <td>39</td>\n",
              "      <td>14</td>\n",
              "      <td>3449</td>\n",
              "      <td>835</td>\n",
              "      <td>69</td>\n",
              "      <td>321</td>\n",
              "      <td>414</td>\n",
              "      <td>375</td>\n",
              "      <td>N</td>\n",
              "      <td>W</td>\n",
              "      <td>632</td>\n",
              "      <td>43</td>\n",
              "      <td>10</td>\n",
              "      <td>475.0</td>\n",
              "      <td>N</td>\n",
              "    </tr>\n",
              "    <tr>\n",
              "      <th>2</th>\n",
              "      <td>479</td>\n",
              "      <td>130</td>\n",
              "      <td>18</td>\n",
              "      <td>66</td>\n",
              "      <td>72</td>\n",
              "      <td>76</td>\n",
              "      <td>3</td>\n",
              "      <td>1624</td>\n",
              "      <td>457</td>\n",
              "      <td>63</td>\n",
              "      <td>224</td>\n",
              "      <td>266</td>\n",
              "      <td>263</td>\n",
              "      <td>A</td>\n",
              "      <td>W</td>\n",
              "      <td>880</td>\n",
              "      <td>82</td>\n",
              "      <td>14</td>\n",
              "      <td>480.0</td>\n",
              "      <td>A</td>\n",
              "    </tr>\n",
              "    <tr>\n",
              "      <th>3</th>\n",
              "      <td>496</td>\n",
              "      <td>141</td>\n",
              "      <td>20</td>\n",
              "      <td>65</td>\n",
              "      <td>78</td>\n",
              "      <td>37</td>\n",
              "      <td>11</td>\n",
              "      <td>5628</td>\n",
              "      <td>1575</td>\n",
              "      <td>225</td>\n",
              "      <td>828</td>\n",
              "      <td>838</td>\n",
              "      <td>354</td>\n",
              "      <td>N</td>\n",
              "      <td>E</td>\n",
              "      <td>200</td>\n",
              "      <td>11</td>\n",
              "      <td>3</td>\n",
              "      <td>500.0</td>\n",
              "      <td>N</td>\n",
              "    </tr>\n",
              "    <tr>\n",
              "      <th>4</th>\n",
              "      <td>321</td>\n",
              "      <td>87</td>\n",
              "      <td>10</td>\n",
              "      <td>39</td>\n",
              "      <td>42</td>\n",
              "      <td>30</td>\n",
              "      <td>2</td>\n",
              "      <td>396</td>\n",
              "      <td>101</td>\n",
              "      <td>12</td>\n",
              "      <td>48</td>\n",
              "      <td>46</td>\n",
              "      <td>33</td>\n",
              "      <td>N</td>\n",
              "      <td>E</td>\n",
              "      <td>805</td>\n",
              "      <td>40</td>\n",
              "      <td>4</td>\n",
              "      <td>91.5</td>\n",
              "      <td>N</td>\n",
              "    </tr>\n",
              "  </tbody>\n",
              "</table>\n",
              "</div>"
            ],
            "text/plain": [
              "   AtBat  Hits  HmRun  Runs  RBI  ...  PutOuts  Assists  Errors  Salary  NewLeague\n",
              "0    293    66      1    30   29  ...      446       33      20     NaN          A\n",
              "1    315    81      7    24   38  ...      632       43      10   475.0          N\n",
              "2    479   130     18    66   72  ...      880       82      14   480.0          A\n",
              "3    496   141     20    65   78  ...      200       11       3   500.0          N\n",
              "4    321    87     10    39   42  ...      805       40       4    91.5          N\n",
              "\n",
              "[5 rows x 20 columns]"
            ]
          },
          "metadata": {
            "tags": []
          },
          "execution_count": 6
        }
      ]
    },
    {
      "cell_type": "code",
      "metadata": {
        "id": "LA1DHOTdNUBP",
        "colab_type": "code",
        "colab": {
          "base_uri": "https://localhost:8080/",
          "height": 34
        },
        "outputId": "05a4d1c9-68e2-4ac9-841f-5d9fef20f534"
      },
      "source": [
        "# How large is the dataset?\n",
        "baseball.shape"
      ],
      "execution_count": 7,
      "outputs": [
        {
          "output_type": "execute_result",
          "data": {
            "text/plain": [
              "(322, 20)"
            ]
          },
          "metadata": {
            "tags": []
          },
          "execution_count": 7
        }
      ]
    },
    {
      "cell_type": "code",
      "metadata": {
        "id": "49KWc8yWNUBU",
        "colab_type": "code",
        "colab": {
          "base_uri": "https://localhost:8080/",
          "height": 85
        },
        "outputId": "37fd37cd-c6e0-4abe-a622-1783ae626cae"
      },
      "source": [
        "# What are the variables?\n",
        "baseball.columns"
      ],
      "execution_count": 8,
      "outputs": [
        {
          "output_type": "execute_result",
          "data": {
            "text/plain": [
              "Index(['AtBat', 'Hits', 'HmRun', 'Runs', 'RBI', 'Walks', 'Years', 'CAtBat',\n",
              "       'CHits', 'CHmRun', 'CRuns', 'CRBI', 'CWalks', 'League', 'Division',\n",
              "       'PutOuts', 'Assists', 'Errors', 'Salary', 'NewLeague'],\n",
              "      dtype='object')"
            ]
          },
          "metadata": {
            "tags": []
          },
          "execution_count": 8
        }
      ]
    },
    {
      "cell_type": "code",
      "metadata": {
        "id": "5FCydkf9NUBY",
        "colab_type": "code",
        "colab": {
          "base_uri": "https://localhost:8080/",
          "height": 374
        },
        "outputId": "4917b659-7c8d-4e19-9dc6-3c3adf418594"
      },
      "source": [
        "# Is there any missing data?\n",
        "baseball.isnull().sum()"
      ],
      "execution_count": 9,
      "outputs": [
        {
          "output_type": "execute_result",
          "data": {
            "text/plain": [
              "AtBat         0\n",
              "Hits          0\n",
              "HmRun         0\n",
              "Runs          0\n",
              "RBI           0\n",
              "Walks         0\n",
              "Years         0\n",
              "CAtBat        0\n",
              "CHits         0\n",
              "CHmRun        0\n",
              "CRuns         0\n",
              "CRBI          0\n",
              "CWalks        0\n",
              "League        0\n",
              "Division      0\n",
              "PutOuts       0\n",
              "Assists       0\n",
              "Errors        0\n",
              "Salary       59\n",
              "NewLeague     0\n",
              "dtype: int64"
            ]
          },
          "metadata": {
            "tags": []
          },
          "execution_count": 9
        }
      ]
    },
    {
      "cell_type": "code",
      "metadata": {
        "id": "2-0BBxQVNUBb",
        "colab_type": "code",
        "colab": {
          "base_uri": "https://localhost:8080/",
          "height": 596
        },
        "outputId": "4717d012-08dd-4f99-d4a7-4a614c725545"
      },
      "source": [
        "# What variables are correlated with each other?\n",
        "corrs=baseball.corr()\n",
        "corrs"
      ],
      "execution_count": 10,
      "outputs": [
        {
          "output_type": "execute_result",
          "data": {
            "text/html": [
              "<div>\n",
              "<style scoped>\n",
              "    .dataframe tbody tr th:only-of-type {\n",
              "        vertical-align: middle;\n",
              "    }\n",
              "\n",
              "    .dataframe tbody tr th {\n",
              "        vertical-align: top;\n",
              "    }\n",
              "\n",
              "    .dataframe thead th {\n",
              "        text-align: right;\n",
              "    }\n",
              "</style>\n",
              "<table border=\"1\" class=\"dataframe\">\n",
              "  <thead>\n",
              "    <tr style=\"text-align: right;\">\n",
              "      <th></th>\n",
              "      <th>AtBat</th>\n",
              "      <th>Hits</th>\n",
              "      <th>HmRun</th>\n",
              "      <th>Runs</th>\n",
              "      <th>RBI</th>\n",
              "      <th>Walks</th>\n",
              "      <th>Years</th>\n",
              "      <th>CAtBat</th>\n",
              "      <th>CHits</th>\n",
              "      <th>CHmRun</th>\n",
              "      <th>CRuns</th>\n",
              "      <th>CRBI</th>\n",
              "      <th>CWalks</th>\n",
              "      <th>PutOuts</th>\n",
              "      <th>Assists</th>\n",
              "      <th>Errors</th>\n",
              "      <th>Salary</th>\n",
              "    </tr>\n",
              "  </thead>\n",
              "  <tbody>\n",
              "    <tr>\n",
              "      <th>AtBat</th>\n",
              "      <td>1.000000</td>\n",
              "      <td>0.967939</td>\n",
              "      <td>0.592198</td>\n",
              "      <td>0.913060</td>\n",
              "      <td>0.820539</td>\n",
              "      <td>0.669845</td>\n",
              "      <td>0.047372</td>\n",
              "      <td>0.235526</td>\n",
              "      <td>0.252717</td>\n",
              "      <td>0.236659</td>\n",
              "      <td>0.266534</td>\n",
              "      <td>0.244053</td>\n",
              "      <td>0.166123</td>\n",
              "      <td>0.317550</td>\n",
              "      <td>0.353824</td>\n",
              "      <td>0.352117</td>\n",
              "      <td>0.394771</td>\n",
              "    </tr>\n",
              "    <tr>\n",
              "      <th>Hits</th>\n",
              "      <td>0.967939</td>\n",
              "      <td>1.000000</td>\n",
              "      <td>0.562158</td>\n",
              "      <td>0.922187</td>\n",
              "      <td>0.811073</td>\n",
              "      <td>0.641211</td>\n",
              "      <td>0.044767</td>\n",
              "      <td>0.227565</td>\n",
              "      <td>0.255815</td>\n",
              "      <td>0.202712</td>\n",
              "      <td>0.261787</td>\n",
              "      <td>0.232005</td>\n",
              "      <td>0.151818</td>\n",
              "      <td>0.310673</td>\n",
              "      <td>0.320455</td>\n",
              "      <td>0.310038</td>\n",
              "      <td>0.438675</td>\n",
              "    </tr>\n",
              "    <tr>\n",
              "      <th>HmRun</th>\n",
              "      <td>0.592198</td>\n",
              "      <td>0.562158</td>\n",
              "      <td>1.000000</td>\n",
              "      <td>0.650988</td>\n",
              "      <td>0.855122</td>\n",
              "      <td>0.481014</td>\n",
              "      <td>0.116318</td>\n",
              "      <td>0.221882</td>\n",
              "      <td>0.220627</td>\n",
              "      <td>0.493227</td>\n",
              "      <td>0.262361</td>\n",
              "      <td>0.351979</td>\n",
              "      <td>0.233154</td>\n",
              "      <td>0.282923</td>\n",
              "      <td>-0.106329</td>\n",
              "      <td>0.039318</td>\n",
              "      <td>0.343028</td>\n",
              "    </tr>\n",
              "    <tr>\n",
              "      <th>Runs</th>\n",
              "      <td>0.913060</td>\n",
              "      <td>0.922187</td>\n",
              "      <td>0.650988</td>\n",
              "      <td>1.000000</td>\n",
              "      <td>0.798206</td>\n",
              "      <td>0.732213</td>\n",
              "      <td>0.004541</td>\n",
              "      <td>0.186497</td>\n",
              "      <td>0.204830</td>\n",
              "      <td>0.227913</td>\n",
              "      <td>0.250556</td>\n",
              "      <td>0.205976</td>\n",
              "      <td>0.182168</td>\n",
              "      <td>0.279347</td>\n",
              "      <td>0.220567</td>\n",
              "      <td>0.240475</td>\n",
              "      <td>0.419859</td>\n",
              "    </tr>\n",
              "    <tr>\n",
              "      <th>RBI</th>\n",
              "      <td>0.820539</td>\n",
              "      <td>0.811073</td>\n",
              "      <td>0.855122</td>\n",
              "      <td>0.798206</td>\n",
              "      <td>1.000000</td>\n",
              "      <td>0.615997</td>\n",
              "      <td>0.146168</td>\n",
              "      <td>0.294688</td>\n",
              "      <td>0.308201</td>\n",
              "      <td>0.441771</td>\n",
              "      <td>0.323285</td>\n",
              "      <td>0.393184</td>\n",
              "      <td>0.250914</td>\n",
              "      <td>0.343186</td>\n",
              "      <td>0.106591</td>\n",
              "      <td>0.193370</td>\n",
              "      <td>0.449457</td>\n",
              "    </tr>\n",
              "    <tr>\n",
              "      <th>Walks</th>\n",
              "      <td>0.669845</td>\n",
              "      <td>0.641211</td>\n",
              "      <td>0.481014</td>\n",
              "      <td>0.732213</td>\n",
              "      <td>0.615997</td>\n",
              "      <td>1.000000</td>\n",
              "      <td>0.136475</td>\n",
              "      <td>0.277175</td>\n",
              "      <td>0.280671</td>\n",
              "      <td>0.332473</td>\n",
              "      <td>0.338478</td>\n",
              "      <td>0.308631</td>\n",
              "      <td>0.424507</td>\n",
              "      <td>0.299515</td>\n",
              "      <td>0.149656</td>\n",
              "      <td>0.129382</td>\n",
              "      <td>0.443867</td>\n",
              "    </tr>\n",
              "    <tr>\n",
              "      <th>Years</th>\n",
              "      <td>0.047372</td>\n",
              "      <td>0.044767</td>\n",
              "      <td>0.116318</td>\n",
              "      <td>0.004541</td>\n",
              "      <td>0.146168</td>\n",
              "      <td>0.136475</td>\n",
              "      <td>1.000000</td>\n",
              "      <td>0.920289</td>\n",
              "      <td>0.903631</td>\n",
              "      <td>0.726872</td>\n",
              "      <td>0.882877</td>\n",
              "      <td>0.868812</td>\n",
              "      <td>0.838533</td>\n",
              "      <td>-0.004684</td>\n",
              "      <td>-0.080638</td>\n",
              "      <td>-0.162140</td>\n",
              "      <td>0.400657</td>\n",
              "    </tr>\n",
              "    <tr>\n",
              "      <th>CAtBat</th>\n",
              "      <td>0.235526</td>\n",
              "      <td>0.227565</td>\n",
              "      <td>0.221882</td>\n",
              "      <td>0.186497</td>\n",
              "      <td>0.294688</td>\n",
              "      <td>0.277175</td>\n",
              "      <td>0.920289</td>\n",
              "      <td>1.000000</td>\n",
              "      <td>0.995063</td>\n",
              "      <td>0.798836</td>\n",
              "      <td>0.983345</td>\n",
              "      <td>0.949219</td>\n",
              "      <td>0.906501</td>\n",
              "      <td>0.062283</td>\n",
              "      <td>0.002038</td>\n",
              "      <td>-0.066922</td>\n",
              "      <td>0.526135</td>\n",
              "    </tr>\n",
              "    <tr>\n",
              "      <th>CHits</th>\n",
              "      <td>0.252717</td>\n",
              "      <td>0.255815</td>\n",
              "      <td>0.220627</td>\n",
              "      <td>0.204830</td>\n",
              "      <td>0.308201</td>\n",
              "      <td>0.280671</td>\n",
              "      <td>0.903631</td>\n",
              "      <td>0.995063</td>\n",
              "      <td>1.000000</td>\n",
              "      <td>0.783306</td>\n",
              "      <td>0.984609</td>\n",
              "      <td>0.945141</td>\n",
              "      <td>0.890954</td>\n",
              "      <td>0.076547</td>\n",
              "      <td>-0.002523</td>\n",
              "      <td>-0.062756</td>\n",
              "      <td>0.548910</td>\n",
              "    </tr>\n",
              "    <tr>\n",
              "      <th>CHmRun</th>\n",
              "      <td>0.236659</td>\n",
              "      <td>0.202712</td>\n",
              "      <td>0.493227</td>\n",
              "      <td>0.227913</td>\n",
              "      <td>0.441771</td>\n",
              "      <td>0.332473</td>\n",
              "      <td>0.726872</td>\n",
              "      <td>0.798836</td>\n",
              "      <td>0.783306</td>\n",
              "      <td>1.000000</td>\n",
              "      <td>0.820243</td>\n",
              "      <td>0.929484</td>\n",
              "      <td>0.799983</td>\n",
              "      <td>0.112724</td>\n",
              "      <td>-0.158511</td>\n",
              "      <td>-0.138115</td>\n",
              "      <td>0.524931</td>\n",
              "    </tr>\n",
              "    <tr>\n",
              "      <th>CRuns</th>\n",
              "      <td>0.266534</td>\n",
              "      <td>0.261787</td>\n",
              "      <td>0.262361</td>\n",
              "      <td>0.250556</td>\n",
              "      <td>0.323285</td>\n",
              "      <td>0.338478</td>\n",
              "      <td>0.882877</td>\n",
              "      <td>0.983345</td>\n",
              "      <td>0.984609</td>\n",
              "      <td>0.820243</td>\n",
              "      <td>1.000000</td>\n",
              "      <td>0.943769</td>\n",
              "      <td>0.927807</td>\n",
              "      <td>0.064180</td>\n",
              "      <td>-0.022978</td>\n",
              "      <td>-0.084395</td>\n",
              "      <td>0.562678</td>\n",
              "    </tr>\n",
              "    <tr>\n",
              "      <th>CRBI</th>\n",
              "      <td>0.244053</td>\n",
              "      <td>0.232005</td>\n",
              "      <td>0.351979</td>\n",
              "      <td>0.205976</td>\n",
              "      <td>0.393184</td>\n",
              "      <td>0.308631</td>\n",
              "      <td>0.868812</td>\n",
              "      <td>0.949219</td>\n",
              "      <td>0.945141</td>\n",
              "      <td>0.929484</td>\n",
              "      <td>0.943769</td>\n",
              "      <td>1.000000</td>\n",
              "      <td>0.884726</td>\n",
              "      <td>0.110098</td>\n",
              "      <td>-0.079387</td>\n",
              "      <td>-0.100990</td>\n",
              "      <td>0.566966</td>\n",
              "    </tr>\n",
              "    <tr>\n",
              "      <th>CWalks</th>\n",
              "      <td>0.166123</td>\n",
              "      <td>0.151818</td>\n",
              "      <td>0.233154</td>\n",
              "      <td>0.182168</td>\n",
              "      <td>0.250914</td>\n",
              "      <td>0.424507</td>\n",
              "      <td>0.838533</td>\n",
              "      <td>0.906501</td>\n",
              "      <td>0.890954</td>\n",
              "      <td>0.799983</td>\n",
              "      <td>0.927807</td>\n",
              "      <td>0.884726</td>\n",
              "      <td>1.000000</td>\n",
              "      <td>0.058638</td>\n",
              "      <td>-0.039130</td>\n",
              "      <td>-0.118475</td>\n",
              "      <td>0.489822</td>\n",
              "    </tr>\n",
              "    <tr>\n",
              "      <th>PutOuts</th>\n",
              "      <td>0.317550</td>\n",
              "      <td>0.310673</td>\n",
              "      <td>0.282923</td>\n",
              "      <td>0.279347</td>\n",
              "      <td>0.343186</td>\n",
              "      <td>0.299515</td>\n",
              "      <td>-0.004684</td>\n",
              "      <td>0.062283</td>\n",
              "      <td>0.076547</td>\n",
              "      <td>0.112724</td>\n",
              "      <td>0.064180</td>\n",
              "      <td>0.110098</td>\n",
              "      <td>0.058638</td>\n",
              "      <td>1.000000</td>\n",
              "      <td>-0.025024</td>\n",
              "      <td>0.109972</td>\n",
              "      <td>0.300480</td>\n",
              "    </tr>\n",
              "    <tr>\n",
              "      <th>Assists</th>\n",
              "      <td>0.353824</td>\n",
              "      <td>0.320455</td>\n",
              "      <td>-0.106329</td>\n",
              "      <td>0.220567</td>\n",
              "      <td>0.106591</td>\n",
              "      <td>0.149656</td>\n",
              "      <td>-0.080638</td>\n",
              "      <td>0.002038</td>\n",
              "      <td>-0.002523</td>\n",
              "      <td>-0.158511</td>\n",
              "      <td>-0.022978</td>\n",
              "      <td>-0.079387</td>\n",
              "      <td>-0.039130</td>\n",
              "      <td>-0.025024</td>\n",
              "      <td>1.000000</td>\n",
              "      <td>0.706362</td>\n",
              "      <td>0.025436</td>\n",
              "    </tr>\n",
              "    <tr>\n",
              "      <th>Errors</th>\n",
              "      <td>0.352117</td>\n",
              "      <td>0.310038</td>\n",
              "      <td>0.039318</td>\n",
              "      <td>0.240475</td>\n",
              "      <td>0.193370</td>\n",
              "      <td>0.129382</td>\n",
              "      <td>-0.162140</td>\n",
              "      <td>-0.066922</td>\n",
              "      <td>-0.062756</td>\n",
              "      <td>-0.138115</td>\n",
              "      <td>-0.084395</td>\n",
              "      <td>-0.100990</td>\n",
              "      <td>-0.118475</td>\n",
              "      <td>0.109972</td>\n",
              "      <td>0.706362</td>\n",
              "      <td>1.000000</td>\n",
              "      <td>-0.005401</td>\n",
              "    </tr>\n",
              "    <tr>\n",
              "      <th>Salary</th>\n",
              "      <td>0.394771</td>\n",
              "      <td>0.438675</td>\n",
              "      <td>0.343028</td>\n",
              "      <td>0.419859</td>\n",
              "      <td>0.449457</td>\n",
              "      <td>0.443867</td>\n",
              "      <td>0.400657</td>\n",
              "      <td>0.526135</td>\n",
              "      <td>0.548910</td>\n",
              "      <td>0.524931</td>\n",
              "      <td>0.562678</td>\n",
              "      <td>0.566966</td>\n",
              "      <td>0.489822</td>\n",
              "      <td>0.300480</td>\n",
              "      <td>0.025436</td>\n",
              "      <td>-0.005401</td>\n",
              "      <td>1.000000</td>\n",
              "    </tr>\n",
              "  </tbody>\n",
              "</table>\n",
              "</div>"
            ],
            "text/plain": [
              "            AtBat      Hits     HmRun  ...   Assists    Errors    Salary\n",
              "AtBat    1.000000  0.967939  0.592198  ...  0.353824  0.352117  0.394771\n",
              "Hits     0.967939  1.000000  0.562158  ...  0.320455  0.310038  0.438675\n",
              "HmRun    0.592198  0.562158  1.000000  ... -0.106329  0.039318  0.343028\n",
              "Runs     0.913060  0.922187  0.650988  ...  0.220567  0.240475  0.419859\n",
              "RBI      0.820539  0.811073  0.855122  ...  0.106591  0.193370  0.449457\n",
              "Walks    0.669845  0.641211  0.481014  ...  0.149656  0.129382  0.443867\n",
              "Years    0.047372  0.044767  0.116318  ... -0.080638 -0.162140  0.400657\n",
              "CAtBat   0.235526  0.227565  0.221882  ...  0.002038 -0.066922  0.526135\n",
              "CHits    0.252717  0.255815  0.220627  ... -0.002523 -0.062756  0.548910\n",
              "CHmRun   0.236659  0.202712  0.493227  ... -0.158511 -0.138115  0.524931\n",
              "CRuns    0.266534  0.261787  0.262361  ... -0.022978 -0.084395  0.562678\n",
              "CRBI     0.244053  0.232005  0.351979  ... -0.079387 -0.100990  0.566966\n",
              "CWalks   0.166123  0.151818  0.233154  ... -0.039130 -0.118475  0.489822\n",
              "PutOuts  0.317550  0.310673  0.282923  ... -0.025024  0.109972  0.300480\n",
              "Assists  0.353824  0.320455 -0.106329  ...  1.000000  0.706362  0.025436\n",
              "Errors   0.352117  0.310038  0.039318  ...  0.706362  1.000000 -0.005401\n",
              "Salary   0.394771  0.438675  0.343028  ...  0.025436 -0.005401  1.000000\n",
              "\n",
              "[17 rows x 17 columns]"
            ]
          },
          "metadata": {
            "tags": []
          },
          "execution_count": 10
        }
      ]
    },
    {
      "cell_type": "code",
      "metadata": {
        "id": "jsYLt5U2NUBi",
        "colab_type": "code",
        "colab": {
          "base_uri": "https://localhost:8080/",
          "height": 520
        },
        "outputId": "41f66df7-13f1-42f9-e3f5-1d3c27a09c93"
      },
      "source": [
        "# Display all of that as a heatmap.\n",
        "plt.figure(figsize=(12, 8))\n",
        "sns.heatmap(corrs);"
      ],
      "execution_count": 11,
      "outputs": [
        {
          "output_type": "display_data",
          "data": {
            "image/png": "[encoded data removed]",
            "text/plain": [
              "<Figure size 864x576 with 2 Axes>"
            ]
          },
          "metadata": {
            "tags": [],
            "needs_background": "light"
          }
        }
      ]
    },
    {
      "cell_type": "markdown",
      "metadata": {
        "id": "qRa0fPeaNUBl",
        "colab_type": "text"
      },
      "source": [
        "#### How do we interpret this heatmap?\n",
        "There are two \"light\" squares:\n",
        "* at-bats, hits, homeruns, RBIs, and walks\n",
        "* Years and Career Stats(at-bats, hits, homeruns, RBIs, and walks)   \n",
        "\n",
        "So let's build our model around one of those sets of variables, and focus on runs as our target outcome."
      ]
    },
    {
      "cell_type": "code",
      "metadata": {
        "id": "VMGk3w06NUBm",
        "colab_type": "code",
        "colab": {
          "base_uri": "https://localhost:8080/",
          "height": 323
        },
        "outputId": "1a91c6b1-e7d5-49a7-d0d2-c46a556fda19"
      },
      "source": [
        "# What variables are most correlated with runs?\n",
        "corrs['Runs'].sort_values(ascending=False)"
      ],
      "execution_count": 12,
      "outputs": [
        {
          "output_type": "execute_result",
          "data": {
            "text/plain": [
              "Runs       1.000000\n",
              "Hits       0.922187\n",
              "AtBat      0.913060\n",
              "RBI        0.798206\n",
              "Walks      0.732213\n",
              "HmRun      0.650988\n",
              "Salary     0.419859\n",
              "PutOuts    0.279347\n",
              "CRuns      0.250556\n",
              "Errors     0.240475\n",
              "CHmRun     0.227913\n",
              "Assists    0.220567\n",
              "CRBI       0.205976\n",
              "CHits      0.204830\n",
              "CAtBat     0.186497\n",
              "CWalks     0.182168\n",
              "Years      0.004541\n",
              "Name: Runs, dtype: float64"
            ]
          },
          "metadata": {
            "tags": []
          },
          "execution_count": 12
        }
      ]
    },
    {
      "cell_type": "markdown",
      "metadata": {
        "id": "gB_xGj5ENUBq",
        "colab_type": "text"
      },
      "source": [
        "## Model Building"
      ]
    },
    {
      "cell_type": "code",
      "metadata": {
        "id": "duNIbvdGNUBq",
        "colab_type": "code",
        "colab": {}
      },
      "source": [
        "# Declare your target variable.\n",
        "y = baseball['Runs']"
      ],
      "execution_count": 13,
      "outputs": []
    },
    {
      "cell_type": "code",
      "metadata": {
        "id": "0YBZJI7JNUBt",
        "colab_type": "code",
        "colab": {}
      },
      "source": [
        "# Declare your feature variables. \n",
        "X = baseball[['AtBat', 'Hits', 'HmRun', 'RBI', 'Walks']]"
      ],
      "execution_count": 14,
      "outputs": []
    },
    {
      "cell_type": "code",
      "metadata": {
        "id": "mfX41cLLNUBw",
        "colab_type": "code",
        "colab": {}
      },
      "source": [
        "# Train-test split.\n",
        "X_train, X_test, y_train, y_test = train_test_split(X, y, test_size=0.25, random_state=42)"
      ],
      "execution_count": 15,
      "outputs": []
    },
    {
      "cell_type": "code",
      "metadata": {
        "id": "JNd9_SCKNUBy",
        "colab_type": "code",
        "colab": {
          "base_uri": "https://localhost:8080/",
          "height": 119
        },
        "outputId": "af0ec5bf-c27f-4f5f-94b1-9a6e8546eb94"
      },
      "source": [
        "# What do some of those values look like? Interpret these numbers.\n",
        "y_test[:5]"
      ],
      "execution_count": 16,
      "outputs": [
        {
          "output_type": "execute_result",
          "data": {
            "text/plain": [
              "173    17\n",
              "132    22\n",
              "197    20\n",
              "9      49\n",
              "104    67\n",
              "Name: Runs, dtype: int64"
            ]
          },
          "metadata": {
            "tags": []
          },
          "execution_count": 16
        }
      ]
    },
    {
      "cell_type": "code",
      "metadata": {
        "id": "n6IYVeA2NUB0",
        "colab_type": "code",
        "colab": {}
      },
      "source": [
        "# Instantiate the sklearn regression class; give it a name.\n",
        "my_model = LinearRegression()"
      ],
      "execution_count": 17,
      "outputs": []
    },
    {
      "cell_type": "code",
      "metadata": {
        "id": "tNOLOdrmNUB3",
        "colab_type": "code",
        "colab": {
          "base_uri": "https://localhost:8080/",
          "height": 34
        },
        "outputId": "63252ddd-0bfc-42e5-d566-a9e4c28e5dd3"
      },
      "source": [
        "# Fit the model to your training dataset.\n",
        "my_model.fit(X_train, y_train)"
      ],
      "execution_count": 18,
      "outputs": [
        {
          "output_type": "execute_result",
          "data": {
            "text/plain": [
              "LinearRegression(copy_X=True, fit_intercept=True, n_jobs=None, normalize=False)"
            ]
          },
          "metadata": {
            "tags": []
          },
          "execution_count": 18
        }
      ]
    },
    {
      "cell_type": "code",
      "metadata": {
        "id": "VgoToaM8NUB5",
        "colab_type": "code",
        "colab": {}
      },
      "source": [
        "# Predict the y-values on the testing set.\n",
        "y_pred = my_model.predict(X_test)"
      ],
      "execution_count": 19,
      "outputs": []
    },
    {
      "cell_type": "code",
      "metadata": {
        "id": "_zP-hL0KNUB9",
        "colab_type": "code",
        "colab": {
          "base_uri": "https://localhost:8080/",
          "height": 34
        },
        "outputId": "6e33eba9-104d-4c22-8f09-3fed4335cfcc"
      },
      "source": [
        "# Take a look at the predictions for the first 5 players in the testing set.\n",
        "[round (x,2) for x in y_pred[:5]]"
      ],
      "execution_count": 20,
      "outputs": [
        {
          "output_type": "execute_result",
          "data": {
            "text/plain": [
              "[19.21, 30.44, 13.91, 55.1, 66.63]"
            ]
          },
          "metadata": {
            "tags": []
          },
          "execution_count": 20
        }
      ]
    },
    {
      "cell_type": "code",
      "metadata": {
        "id": "w6M4Hx5ZNUCA",
        "colab_type": "code",
        "colab": {
          "base_uri": "https://localhost:8080/",
          "height": 34
        },
        "outputId": "05f6281a-aa2c-4469-af56-4f55fc80f473"
      },
      "source": [
        "# compare that to the actual runs of the first five players in the data.\n",
        "list(y_test[:5])"
      ],
      "execution_count": 21,
      "outputs": [
        {
          "output_type": "execute_result",
          "data": {
            "text/plain": [
              "[17, 22, 20, 49, 67]"
            ]
          },
          "metadata": {
            "tags": []
          },
          "execution_count": 21
        }
      ]
    },
    {
      "cell_type": "markdown",
      "metadata": {
        "id": "m2ayuN-nNUCC",
        "colab_type": "text"
      },
      "source": [
        "## Evaluate the model"
      ]
    },
    {
      "cell_type": "code",
      "metadata": {
        "id": "AU1xgrEbNUCC",
        "colab_type": "code",
        "colab": {
          "base_uri": "https://localhost:8080/",
          "height": 34
        },
        "outputId": "1370e94d-9776-4008-f45c-f394776f2945"
      },
      "source": [
        "# On average, by how much value are we missing the mark?\n",
        "rmse = sqrt(metrics.mean_squared_error(y_test, y_pred))\n",
        "print(f'On average, our model errs by {round(rmse)} runs per player.')"
      ],
      "execution_count": 22,
      "outputs": [
        {
          "output_type": "stream",
          "text": [
            "On average, our model errs by 7 runs per player.\n"
          ],
          "name": "stdout"
        }
      ]
    },
    {
      "cell_type": "code",
      "metadata": {
        "id": "SLK2wY5UNUCE",
        "colab_type": "code",
        "colab": {
          "base_uri": "https://localhost:8080/",
          "height": 34
        },
        "outputId": "1cbbe068-caee-44a3-cf75-ea819ee142c2"
      },
      "source": [
        "# So... what if we just flipped a coin?\n",
        "avg_val=round(y_train.mean())\n",
        "print(f'The average is {avg_val} runs per player.')"
      ],
      "execution_count": 23,
      "outputs": [
        {
          "output_type": "stream",
          "text": [
            "The average is 50 runs per player.\n"
          ],
          "name": "stdout"
        }
      ]
    },
    {
      "cell_type": "code",
      "metadata": {
        "id": "CTuirU8sNUCG",
        "colab_type": "code",
        "colab": {
          "base_uri": "https://localhost:8080/",
          "height": 34
        },
        "outputId": "fbaf89f1-7398-481a-a7a5-ca63c73bc4dc"
      },
      "source": [
        "# If we used that as our predictor, then the average error of our model would be:\n",
        "comparison_array=np.full((len(y_test), ), avg_val)\n",
        "coin_flip=sqrt(metrics.mean_squared_error(y_test, comparison_array))\n",
        "print(round(coin_flip))"
      ],
      "execution_count": 24,
      "outputs": [
        {
          "output_type": "stream",
          "text": [
            "27\n"
          ],
          "name": "stdout"
        }
      ]
    },
    {
      "cell_type": "code",
      "metadata": {
        "id": "nHI_j8ncNUCI",
        "colab_type": "code",
        "colab": {
          "base_uri": "https://localhost:8080/",
          "height": 34
        },
        "outputId": "6db27915-0355-4327-f22f-f4f9c0613bbe"
      },
      "source": [
        "# So, is our model better than just taking the average number of runs?\n",
        "print(f'improvement over mean prediction: {round(rmse-coin_flip)} runs')\n",
        "# Remember, less error is a good thing!"
      ],
      "execution_count": 25,
      "outputs": [
        {
          "output_type": "stream",
          "text": [
            "improvement over mean prediction: -20 runs\n"
          ],
          "name": "stdout"
        }
      ]
    },
    {
      "cell_type": "code",
      "metadata": {
        "id": "0--3rFFcNUCL",
        "colab_type": "code",
        "colab": {
          "base_uri": "https://localhost:8080/",
          "height": 34
        },
        "outputId": "5d6da8c1-d627-491b-adcb-bf0d3c116d40"
      },
      "source": [
        "# A higher R2 score indicates more variance explained.\n",
        "r2=metrics.r2_score(y_test, y_pred)\n",
        "round(r2,2)"
      ],
      "execution_count": 26,
      "outputs": [
        {
          "output_type": "execute_result",
          "data": {
            "text/plain": [
              "0.93"
            ]
          },
          "metadata": {
            "tags": []
          },
          "execution_count": 26
        }
      ]
    },
    {
      "cell_type": "code",
      "metadata": {
        "id": "cM_CmBBnNUCO",
        "colab_type": "code",
        "colab": {
          "base_uri": "https://localhost:8080/",
          "height": 374
        },
        "outputId": "e5ec4622-3f0e-4dde-c246-8a30f4f04c0f"
      },
      "source": [
        "# Let's display our predictions vs. real values.\n",
        "plt.figure(figsize=(6, 6))\n",
        "sns.regplot(x=y_pred, y=y_test);"
      ],
      "execution_count": 27,
      "outputs": [
        {
          "output_type": "display_data",
          "data": {
            "image/png": "[encoded data removed]",
            "text/plain": [
              "<Figure size 432x432 with 1 Axes>"
            ]
          },
          "metadata": {
            "tags": [],
            "needs_background": "light"
          }
        }
      ]
    },
    {
      "cell_type": "markdown",
      "metadata": {
        "id": "pH7upaw_NUCQ",
        "colab_type": "text"
      },
      "source": [
        "## Examine an individual prediction"
      ]
    },
    {
      "cell_type": "markdown",
      "metadata": {
        "id": "mTo_bsTBNUCR",
        "colab_type": "text"
      },
      "source": [
        "#### Let's look at the very first player"
      ]
    },
    {
      "cell_type": "code",
      "metadata": {
        "id": "uopsJjKxNUCS",
        "colab_type": "code",
        "colab": {
          "base_uri": "https://localhost:8080/",
          "height": 0
        },
        "outputId": "5c8ca332-1d97-4986-f4bd-54c0fa5f1ab9"
      },
      "source": [
        "# Who's the first player in the testing dataset?\n",
        "X_test.head()"
      ],
      "execution_count": 28,
      "outputs": [
        {
          "output_type": "execute_result",
          "data": {
            "text/html": [
              "<div>\n",
              "<style scoped>\n",
              "    .dataframe tbody tr th:only-of-type {\n",
              "        vertical-align: middle;\n",
              "    }\n",
              "\n",
              "    .dataframe tbody tr th {\n",
              "        vertical-align: top;\n",
              "    }\n",
              "\n",
              "    .dataframe thead th {\n",
              "        text-align: right;\n",
              "    }\n",
              "</style>\n",
              "<table border=\"1\" class=\"dataframe\">\n",
              "  <thead>\n",
              "    <tr style=\"text-align: right;\">\n",
              "      <th></th>\n",
              "      <th>AtBat</th>\n",
              "      <th>Hits</th>\n",
              "      <th>HmRun</th>\n",
              "      <th>RBI</th>\n",
              "      <th>Walks</th>\n",
              "    </tr>\n",
              "  </thead>\n",
              "  <tbody>\n",
              "    <tr>\n",
              "      <th>173</th>\n",
              "      <td>161</td>\n",
              "      <td>43</td>\n",
              "      <td>4</td>\n",
              "      <td>26</td>\n",
              "      <td>22</td>\n",
              "    </tr>\n",
              "    <tr>\n",
              "      <th>132</th>\n",
              "      <td>278</td>\n",
              "      <td>70</td>\n",
              "      <td>7</td>\n",
              "      <td>37</td>\n",
              "      <td>18</td>\n",
              "    </tr>\n",
              "    <tr>\n",
              "      <th>197</th>\n",
              "      <td>166</td>\n",
              "      <td>34</td>\n",
              "      <td>0</td>\n",
              "      <td>13</td>\n",
              "      <td>17</td>\n",
              "    </tr>\n",
              "    <tr>\n",
              "      <th>9</th>\n",
              "      <td>401</td>\n",
              "      <td>92</td>\n",
              "      <td>17</td>\n",
              "      <td>66</td>\n",
              "      <td>65</td>\n",
              "    </tr>\n",
              "    <tr>\n",
              "      <th>104</th>\n",
              "      <td>397</td>\n",
              "      <td>114</td>\n",
              "      <td>23</td>\n",
              "      <td>67</td>\n",
              "      <td>53</td>\n",
              "    </tr>\n",
              "  </tbody>\n",
              "</table>\n",
              "</div>"
            ],
            "text/plain": [
              "     AtBat  Hits  HmRun  RBI  Walks\n",
              "173    161    43      4   26     22\n",
              "132    278    70      7   37     18\n",
              "197    166    34      0   13     17\n",
              "9      401    92     17   66     65\n",
              "104    397   114     23   67     53"
            ]
          },
          "metadata": {
            "tags": []
          },
          "execution_count": 28
        }
      ]
    },
    {
      "cell_type": "code",
      "metadata": {
        "id": "BHPc-PieNUCV",
        "colab_type": "code",
        "colab": {
          "base_uri": "https://localhost:8080/",
          "height": 0
        },
        "outputId": "0a4280bb-a0c3-434e-c778-6ac3b9f05681"
      },
      "source": [
        "# Let's take a look stats for player #173.\n",
        "X_test.loc[173]"
      ],
      "execution_count": 29,
      "outputs": [
        {
          "output_type": "execute_result",
          "data": {
            "text/plain": [
              "AtBat    161\n",
              "Hits      43\n",
              "HmRun      4\n",
              "RBI       26\n",
              "Walks     22\n",
              "Name: 173, dtype: int64"
            ]
          },
          "metadata": {
            "tags": []
          },
          "execution_count": 29
        }
      ]
    },
    {
      "cell_type": "code",
      "metadata": {
        "id": "W3jEz1SrNUCY",
        "colab_type": "code",
        "colab": {
          "base_uri": "https://localhost:8080/",
          "height": 0
        },
        "outputId": "9e5f5f81-02c4-40fd-d401-5b5d07ddd188"
      },
      "source": [
        "# How many runs did he actually get?\n",
        "y_test.loc[173]"
      ],
      "execution_count": 30,
      "outputs": [
        {
          "output_type": "execute_result",
          "data": {
            "text/plain": [
              "17"
            ]
          },
          "metadata": {
            "tags": []
          },
          "execution_count": 30
        }
      ]
    },
    {
      "cell_type": "code",
      "metadata": {
        "id": "2sUoqt6MNUCb",
        "colab_type": "code",
        "colab": {
          "base_uri": "https://localhost:8080/",
          "height": 0
        },
        "outputId": "fb1ce3a2-ca47-4940-f242-f558eff055e8"
      },
      "source": [
        "# Let's convert his stats into a numpy array with the appropriate shape.\n",
        "row=np.array(X_test.loc[173].values)\n",
        "row_reshaped=row.reshape(1, 5)\n",
        "row_reshaped"
      ],
      "execution_count": 31,
      "outputs": [
        {
          "output_type": "execute_result",
          "data": {
            "text/plain": [
              "array([[161,  43,   4,  26,  22]])"
            ]
          },
          "metadata": {
            "tags": []
          },
          "execution_count": 31
        }
      ]
    },
    {
      "cell_type": "code",
      "metadata": {
        "id": "KNYarCc7NUCg",
        "colab_type": "code",
        "colab": {
          "base_uri": "https://localhost:8080/",
          "height": 0
        },
        "outputId": "a0f31b30-7178-43f8-e1c5-c4ec45642cf7"
      },
      "source": [
        "# How many runs does our model predict that he would get?\n",
        "my_model.predict(row_reshaped)"
      ],
      "execution_count": 32,
      "outputs": [
        {
          "output_type": "execute_result",
          "data": {
            "text/plain": [
              "array([19.20841314])"
            ]
          },
          "metadata": {
            "tags": []
          },
          "execution_count": 32
        }
      ]
    },
    {
      "cell_type": "code",
      "metadata": {
        "id": "XvuhzFHENUCj",
        "colab_type": "code",
        "colab": {
          "base_uri": "https://localhost:8080/",
          "height": 0
        },
        "outputId": "0e6daffe-9492-4e78-dfa1-183e12d67fb9"
      },
      "source": [
        "# We can also just get that by calling the first element of our list of predictions, from earlier.\n",
        "y_pred[0]"
      ],
      "execution_count": 33,
      "outputs": [
        {
          "output_type": "execute_result",
          "data": {
            "text/plain": [
              "19.208413143919266"
            ]
          },
          "metadata": {
            "tags": []
          },
          "execution_count": 33
        }
      ]
    },
    {
      "cell_type": "code",
      "metadata": {
        "id": "0eVXRN5GNUCl",
        "colab_type": "code",
        "colab": {
          "base_uri": "https://localhost:8080/",
          "height": 0
        },
        "outputId": "b759d1b3-9d6a-46ff-e7f7-c8989538d47c"
      },
      "source": [
        "# If we had just taken the average of all players, how many runs would we have predicted for him?\n",
        "round(y_train.mean())"
      ],
      "execution_count": 34,
      "outputs": [
        {
          "output_type": "execute_result",
          "data": {
            "text/plain": [
              "50"
            ]
          },
          "metadata": {
            "tags": []
          },
          "execution_count": 34
        }
      ]
    },
    {
      "cell_type": "markdown",
      "metadata": {
        "id": "oVMt9jrHNUCn",
        "colab_type": "text"
      },
      "source": [
        "## Make predictions on new data."
      ]
    },
    {
      "cell_type": "markdown",
      "metadata": {
        "id": "84vKJWPXNUCn",
        "colab_type": "text"
      },
      "source": [
        "#### Let's pretend the year is 1956.\n",
        "Mickey Mantle is playing first base. How many hits do we predict he'll get?   \n",
        "https://www.baseball-reference.com/players/m/mantlmi01.shtml  \n"
      ]
    },
    {
      "cell_type": "code",
      "metadata": {
        "id": "UHUPTGYcNUCn",
        "colab_type": "code",
        "colab": {}
      },
      "source": [
        "# Here are his actual stats.\n",
        "Runs=132\n",
        "AtBat=533\n",
        "Hits=188\n",
        "HmRun=52\n",
        "RBI=130\n",
        "Walks=112\n",
        "# http://www.highheatstats.com/2013/01/taking-a-look-at-mickey-mantles-1956/"
      ],
      "execution_count": 35,
      "outputs": []
    },
    {
      "cell_type": "code",
      "metadata": {
        "id": "j3INfbilNUCq",
        "colab_type": "code",
        "colab": {
          "base_uri": "https://localhost:8080/",
          "height": 0
        },
        "outputId": "a6b94485-8db7-4ea8-f115-1f9ea7c126fe"
      },
      "source": [
        "# We need to reshape the data into a 2D numpy array\n",
        "row=np.array([AtBat, Hits, HmRun, RBI, Walks])\n",
        "row_reshaped=row.reshape(1, 5)\n",
        "row_reshaped"
      ],
      "execution_count": 36,
      "outputs": [
        {
          "output_type": "execute_result",
          "data": {
            "text/plain": [
              "array([[533, 188,  52, 130, 112]])"
            ]
          },
          "metadata": {
            "tags": []
          },
          "execution_count": 36
        }
      ]
    },
    {
      "cell_type": "code",
      "metadata": {
        "id": "bon4VlrGNUCs",
        "colab_type": "code",
        "colab": {
          "base_uri": "https://localhost:8080/",
          "height": 0
        },
        "outputId": "89a14a11-c06d-4850-8c87-0b3fa7b6aa89"
      },
      "source": [
        "# Let's make a prediction based on those stats.\n",
        "prediction=my_model.predict(row_reshaped)\n",
        "round(prediction[0])"
      ],
      "execution_count": 37,
      "outputs": [
        {
          "output_type": "execute_result",
          "data": {
            "text/plain": [
              "125.0"
            ]
          },
          "metadata": {
            "tags": []
          },
          "execution_count": 37
        }
      ]
    },
    {
      "cell_type": "code",
      "metadata": {
        "id": "rHEuH_lxNUCv",
        "colab_type": "code",
        "colab": {
          "base_uri": "https://localhost:8080/",
          "height": 0
        },
        "outputId": "e9f8a9c0-fd67-480b-de87-46fb164e99a4"
      },
      "source": [
        "# What's the error in our model, for Mickey Mantle?\n",
        "error = prediction[0]-Runs\n",
        "round(error)"
      ],
      "execution_count": 38,
      "outputs": [
        {
          "output_type": "execute_result",
          "data": {
            "text/plain": [
              "-7.0"
            ]
          },
          "metadata": {
            "tags": []
          },
          "execution_count": 38
        }
      ]
    },
    {
      "cell_type": "markdown",
      "metadata": {
        "id": "AN4ibX-pNUCx",
        "colab_type": "text"
      },
      "source": [
        "Ted Williams of the Red Sox finished sixth in MVP voting that year, and had an even higher on base percentage (.479) than Mantle. Let's see how our model does with his 1956 stats."
      ]
    },
    {
      "cell_type": "code",
      "metadata": {
        "id": "WmBQZklZNUCx",
        "colab_type": "code",
        "colab": {}
      },
      "source": [
        "# https://www.baseball-reference.com/players/w/willite01.shtml\n",
        "Runs=71\n",
        "AtBat=400\n",
        "Hits=138\n",
        "HmRun=24\n",
        "RBI=82\n",
        "Walks=102"
      ],
      "execution_count": 39,
      "outputs": []
    },
    {
      "cell_type": "code",
      "metadata": {
        "id": "PWWkaBMqNUC2",
        "colab_type": "code",
        "colab": {
          "base_uri": "https://localhost:8080/",
          "height": 0
        },
        "outputId": "e5f83431-963d-479d-8d59-0e2021c220e5"
      },
      "source": [
        "# We need to reshape the data into a 2D numpy array\n",
        "row=np.array([AtBat, Hits, HmRun, RBI, Walks])\n",
        "row_reshaped=row.reshape(1, 5)\n",
        "row_reshaped"
      ],
      "execution_count": 40,
      "outputs": [
        {
          "output_type": "execute_result",
          "data": {
            "text/plain": [
              "array([[400, 138,  24,  82, 102]])"
            ]
          },
          "metadata": {
            "tags": []
          },
          "execution_count": 40
        }
      ]
    },
    {
      "cell_type": "code",
      "metadata": {
        "id": "MQcszSFINUC4",
        "colab_type": "code",
        "colab": {
          "base_uri": "https://localhost:8080/",
          "height": 0
        },
        "outputId": "485968e7-9ca9-417d-8c14-9c0fa0b1168b"
      },
      "source": [
        "# Let's make a prediction based on those stats.\n",
        "prediction=my_model.predict(row_reshaped)\n",
        "round(prediction[0])"
      ],
      "execution_count": 41,
      "outputs": [
        {
          "output_type": "execute_result",
          "data": {
            "text/plain": [
              "87.0"
            ]
          },
          "metadata": {
            "tags": []
          },
          "execution_count": 41
        }
      ]
    },
    {
      "cell_type": "code",
      "metadata": {
        "id": "ZALTJnayNUC6",
        "colab_type": "code",
        "colab": {
          "base_uri": "https://localhost:8080/",
          "height": 0
        },
        "outputId": "cb44b152-dd59-4a8a-8ef9-7ff9bf4e7eee"
      },
      "source": [
        "# What's the error in our model, for Ted Williams?\n",
        "error = prediction[0]-Runs\n",
        "round(error)"
      ],
      "execution_count": 42,
      "outputs": [
        {
          "output_type": "execute_result",
          "data": {
            "text/plain": [
              "16.0"
            ]
          },
          "metadata": {
            "tags": []
          },
          "execution_count": 42
        }
      ]
    },
    {
      "cell_type": "markdown",
      "metadata": {
        "id": "IUqk0VzJNUC8",
        "colab_type": "text"
      },
      "source": [
        "## Now it's your turn."
      ]
    },
    {
      "cell_type": "markdown",
      "metadata": {
        "id": "BRc4nuhnNUC9",
        "colab_type": "text"
      },
      "source": [
        "Try to build your own linear regression model, but using _career_ stats instead of _year_ stats."
      ]
    },
    {
      "cell_type": "code",
      "metadata": {
        "id": "VXHngtdJNUC9",
        "colab_type": "code",
        "colab": {}
      },
      "source": [
        ""
      ],
      "execution_count": 42,
      "outputs": []
    }
  ]
}